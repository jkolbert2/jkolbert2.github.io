{
 "cells": [
  {
   "cell_type": "markdown",
   "metadata": {},
   "source": [
    "https://jkolbert2.github.io/"
   ]
  },
  {
   "cell_type": "markdown",
   "metadata": {},
   "source": [
    "For my tutorial project, I want to do analytics on the causes of climate change. Specifically, the main argument for many climate change deniers has shifted from denying the existence of climate change, to denying its causes. I frequently notice online and occasionally in real life the repeated rhetoric that the United States is not the leading cause for climate change, as we don't have the highest emissions. As such, many people argue that the united states government is taking too radical action, and that the real blame lies in countries such as India or China, who some believe have far too lax regulation.\n",
    "\n",
    "While there are many possible ethical arguments against this claim, and while I obvioulsy believe it to be disingenuine, I want to use various data sources to see to what extent the belief has merit. Specifically, I want to analysze which countries have the highest per capital emissions, the impact that outsouring has on emmissions and, essentially, where the real root causes for high emmissions come from. \n",
    "\n",
    "There are obviously thousands of different datasets to grab climate data from. Some sources that I intend to use for my tutorial include https://en.tutiempo.net/climate for world climate data, http://worldclim.org/version2 for averages over time, https://catalog.data.gov/dataset/exports-from-manufacturing-establishmentsfor  and https://catalog.data.gov/dataset/exporter-database U.S export information. I would also like to use the world bank database on exports https://wits.worldbank.org/CountryProfile/en/CHN. Ideally, I would like users of the tutorial to look at the export data of any one country, and see the correlated climate impact. \n",
    "\n",
    "There are several questions I hope to answer using this analysis. I want to see which nations, if any, are disproportionally responsible for carbon emmissions. I would also like to see which nations, despite having high emmissions have lower per capita emmission. I could use this analysis to draw conclusions about which policies generally correlate with lower per capita emmissions. Lastly, I will consider including some links to the quality of life index https://en.wikipedia.org/wiki/Where-to-be-born_Index. This index is done by the economic intelligence unit. I would hope to see if there are countires that maintain lower emmissions while simultaneously not lowering citizens quality of life, and perhaps draw conclusions about which policies bets achieve this balance"
   ]
  },
  {
   "cell_type": "code",
   "execution_count": null,
   "metadata": {},
   "outputs": [],
   "source": []
  }
 ],
 "metadata": {
  "kernelspec": {
   "display_name": "Python 3",
   "language": "python",
   "name": "python3"
  },
  "language_info": {
   "codemirror_mode": {
    "name": "ipython",
    "version": 3
   },
   "file_extension": ".py",
   "mimetype": "text/x-python",
   "name": "python",
   "nbconvert_exporter": "python",
   "pygments_lexer": "ipython3",
   "version": "3.7.3"
  }
 },
 "nbformat": 4,
 "nbformat_minor": 2
}
